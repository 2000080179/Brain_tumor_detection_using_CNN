{
 "cells": [
  {
   "cell_type": "code",
   "execution_count": 1,
   "id": "fb779b95",
   "metadata": {},
   "outputs": [],
   "source": [
    "import os\n",
    "import pandas as pd\n",
    "import numpy  as np\n",
    "from skimage import io\n",
    "import seaborn as sns\n",
    "import matplotlib.pyplot as plt\n",
    "from sklearn.metrics import confusion_matrix\n",
    "from sklearn.metrics import classification_report"
   ]
  },
  {
   "cell_type": "code",
   "execution_count": 2,
   "id": "c67b4711",
   "metadata": {},
   "outputs": [],
   "source": [
    "data=r\"C:\\Users\\user\\Downloads\\archive\"\n",
    "no_tumor=r\"C:\\Users\\user\\Downloads\\archive\\no\"\n",
    "yes_tumor=r\"C:\\Users\\user\\Downloads\\archive\\yes\""
   ]
  },
  {
   "cell_type": "code",
   "execution_count": 3,
   "id": "7c65fba0",
   "metadata": {},
   "outputs": [],
   "source": [
    "dirlist=[no_tumor,yes_tumor]\n",
    "classes=['No','Yes']\n",
    "filepaths=[]\n",
    "labels=[]"
   ]
  },
  {
   "cell_type": "code",
   "execution_count": 4,
   "id": "9d8da5e4",
   "metadata": {},
   "outputs": [],
   "source": [
    "for i,j in zip(dirlist,classes):\n",
    "    filelists=os.listdir(i)\n",
    "    for f in filelists:\n",
    "        filepaths.append(os.path.join(i,f))\n",
    "        labels.append(j)"
   ]
  },
  {
   "cell_type": "code",
   "execution_count": 5,
   "id": "5e25813a",
   "metadata": {},
   "outputs": [],
   "source": [
    "files=pd.Series(filepaths,name=\"filepaths\")\n",
    "labels_s=pd.Series(labels,name=\"labels\")\n",
    "df=pd.concat([files,labels_s],axis=1)"
   ]
  },
  {
   "cell_type": "code",
   "execution_count": 6,
   "id": "f8e7ae2e",
   "metadata": {},
   "outputs": [
    {
     "data": {
      "text/plain": [
       "(253, 2)"
      ]
     },
     "execution_count": 6,
     "metadata": {},
     "output_type": "execute_result"
    }
   ],
   "source": [
    "df.shape"
   ]
  },
  {
   "cell_type": "code",
   "execution_count": 7,
   "id": "656b8016",
   "metadata": {},
   "outputs": [],
   "source": [
    "\n",
    "df = df.sample(frac = 1)"
   ]
  },
  {
   "cell_type": "code",
   "execution_count": 8,
   "id": "8c3914fc",
   "metadata": {},
   "outputs": [
    {
     "data": {
      "text/plain": [
       "(253, 2)"
      ]
     },
     "execution_count": 8,
     "metadata": {},
     "output_type": "execute_result"
    }
   ],
   "source": [
    "df.shape"
   ]
  },
  {
   "cell_type": "code",
   "execution_count": 9,
   "id": "74002921",
   "metadata": {},
   "outputs": [],
   "source": [
    "df=df.reset_index()"
   ]
  },
  {
   "cell_type": "code",
   "execution_count": 10,
   "id": "86201a0b",
   "metadata": {},
   "outputs": [
    {
     "data": {
      "text/html": [
       "<div>\n",
       "<style scoped>\n",
       "    .dataframe tbody tr th:only-of-type {\n",
       "        vertical-align: middle;\n",
       "    }\n",
       "\n",
       "    .dataframe tbody tr th {\n",
       "        vertical-align: top;\n",
       "    }\n",
       "\n",
       "    .dataframe thead th {\n",
       "        text-align: right;\n",
       "    }\n",
       "</style>\n",
       "<table border=\"1\" class=\"dataframe\">\n",
       "  <thead>\n",
       "    <tr style=\"text-align: right;\">\n",
       "      <th></th>\n",
       "      <th>index</th>\n",
       "      <th>filepaths</th>\n",
       "      <th>labels</th>\n",
       "    </tr>\n",
       "  </thead>\n",
       "  <tbody>\n",
       "    <tr>\n",
       "      <th>0</th>\n",
       "      <td>107</td>\n",
       "      <td>C:\\Users\\user\\Downloads\\archive\\yes\\Y107.jpg</td>\n",
       "      <td>Yes</td>\n",
       "    </tr>\n",
       "    <tr>\n",
       "      <th>1</th>\n",
       "      <td>33</td>\n",
       "      <td>C:\\Users\\user\\Downloads\\archive\\no\\40 no.jpg</td>\n",
       "      <td>No</td>\n",
       "    </tr>\n",
       "    <tr>\n",
       "      <th>2</th>\n",
       "      <td>210</td>\n",
       "      <td>C:\\Users\\user\\Downloads\\archive\\yes\\Y50.JPG</td>\n",
       "      <td>Yes</td>\n",
       "    </tr>\n",
       "    <tr>\n",
       "      <th>3</th>\n",
       "      <td>99</td>\n",
       "      <td>C:\\Users\\user\\Downloads\\archive\\yes\\Y10.jpg</td>\n",
       "      <td>Yes</td>\n",
       "    </tr>\n",
       "    <tr>\n",
       "      <th>4</th>\n",
       "      <td>183</td>\n",
       "      <td>C:\\Users\\user\\Downloads\\archive\\yes\\Y257.jpg</td>\n",
       "      <td>Yes</td>\n",
       "    </tr>\n",
       "    <tr>\n",
       "      <th>...</th>\n",
       "      <td>...</td>\n",
       "      <td>...</td>\n",
       "      <td>...</td>\n",
       "    </tr>\n",
       "    <tr>\n",
       "      <th>248</th>\n",
       "      <td>35</td>\n",
       "      <td>C:\\Users\\user\\Downloads\\archive\\no\\42 no.jpg</td>\n",
       "      <td>No</td>\n",
       "    </tr>\n",
       "    <tr>\n",
       "      <th>249</th>\n",
       "      <td>232</td>\n",
       "      <td>C:\\Users\\user\\Downloads\\archive\\yes\\Y75.JPG</td>\n",
       "      <td>Yes</td>\n",
       "    </tr>\n",
       "    <tr>\n",
       "      <th>250</th>\n",
       "      <td>100</td>\n",
       "      <td>C:\\Users\\user\\Downloads\\archive\\yes\\Y100.JPG</td>\n",
       "      <td>Yes</td>\n",
       "    </tr>\n",
       "    <tr>\n",
       "      <th>251</th>\n",
       "      <td>252</td>\n",
       "      <td>C:\\Users\\user\\Downloads\\archive\\yes\\Y99.JPG</td>\n",
       "      <td>Yes</td>\n",
       "    </tr>\n",
       "    <tr>\n",
       "      <th>252</th>\n",
       "      <td>168</td>\n",
       "      <td>C:\\Users\\user\\Downloads\\archive\\yes\\Y243.JPG</td>\n",
       "      <td>Yes</td>\n",
       "    </tr>\n",
       "  </tbody>\n",
       "</table>\n",
       "<p>253 rows × 3 columns</p>\n",
       "</div>"
      ],
      "text/plain": [
       "     index                                     filepaths labels\n",
       "0      107  C:\\Users\\user\\Downloads\\archive\\yes\\Y107.jpg    Yes\n",
       "1       33  C:\\Users\\user\\Downloads\\archive\\no\\40 no.jpg     No\n",
       "2      210   C:\\Users\\user\\Downloads\\archive\\yes\\Y50.JPG    Yes\n",
       "3       99   C:\\Users\\user\\Downloads\\archive\\yes\\Y10.jpg    Yes\n",
       "4      183  C:\\Users\\user\\Downloads\\archive\\yes\\Y257.jpg    Yes\n",
       "..     ...                                           ...    ...\n",
       "248     35  C:\\Users\\user\\Downloads\\archive\\no\\42 no.jpg     No\n",
       "249    232   C:\\Users\\user\\Downloads\\archive\\yes\\Y75.JPG    Yes\n",
       "250    100  C:\\Users\\user\\Downloads\\archive\\yes\\Y100.JPG    Yes\n",
       "251    252   C:\\Users\\user\\Downloads\\archive\\yes\\Y99.JPG    Yes\n",
       "252    168  C:\\Users\\user\\Downloads\\archive\\yes\\Y243.JPG    Yes\n",
       "\n",
       "[253 rows x 3 columns]"
      ]
     },
     "execution_count": 10,
     "metadata": {},
     "output_type": "execute_result"
    }
   ],
   "source": [
    "df"
   ]
  },
  {
   "cell_type": "code",
   "execution_count": 11,
   "id": "3928d7f8",
   "metadata": {},
   "outputs": [],
   "source": [
    "df.drop('index',inplace=True,axis=1)"
   ]
  },
  {
   "cell_type": "code",
   "execution_count": 12,
   "id": "d9e16565",
   "metadata": {},
   "outputs": [
    {
     "data": {
      "text/html": [
       "<div>\n",
       "<style scoped>\n",
       "    .dataframe tbody tr th:only-of-type {\n",
       "        vertical-align: middle;\n",
       "    }\n",
       "\n",
       "    .dataframe tbody tr th {\n",
       "        vertical-align: top;\n",
       "    }\n",
       "\n",
       "    .dataframe thead th {\n",
       "        text-align: right;\n",
       "    }\n",
       "</style>\n",
       "<table border=\"1\" class=\"dataframe\">\n",
       "  <thead>\n",
       "    <tr style=\"text-align: right;\">\n",
       "      <th></th>\n",
       "      <th>filepaths</th>\n",
       "      <th>labels</th>\n",
       "    </tr>\n",
       "  </thead>\n",
       "  <tbody>\n",
       "    <tr>\n",
       "      <th>0</th>\n",
       "      <td>C:\\Users\\user\\Downloads\\archive\\yes\\Y107.jpg</td>\n",
       "      <td>Yes</td>\n",
       "    </tr>\n",
       "    <tr>\n",
       "      <th>1</th>\n",
       "      <td>C:\\Users\\user\\Downloads\\archive\\no\\40 no.jpg</td>\n",
       "      <td>No</td>\n",
       "    </tr>\n",
       "    <tr>\n",
       "      <th>2</th>\n",
       "      <td>C:\\Users\\user\\Downloads\\archive\\yes\\Y50.JPG</td>\n",
       "      <td>Yes</td>\n",
       "    </tr>\n",
       "    <tr>\n",
       "      <th>3</th>\n",
       "      <td>C:\\Users\\user\\Downloads\\archive\\yes\\Y10.jpg</td>\n",
       "      <td>Yes</td>\n",
       "    </tr>\n",
       "    <tr>\n",
       "      <th>4</th>\n",
       "      <td>C:\\Users\\user\\Downloads\\archive\\yes\\Y257.jpg</td>\n",
       "      <td>Yes</td>\n",
       "    </tr>\n",
       "    <tr>\n",
       "      <th>...</th>\n",
       "      <td>...</td>\n",
       "      <td>...</td>\n",
       "    </tr>\n",
       "    <tr>\n",
       "      <th>248</th>\n",
       "      <td>C:\\Users\\user\\Downloads\\archive\\no\\42 no.jpg</td>\n",
       "      <td>No</td>\n",
       "    </tr>\n",
       "    <tr>\n",
       "      <th>249</th>\n",
       "      <td>C:\\Users\\user\\Downloads\\archive\\yes\\Y75.JPG</td>\n",
       "      <td>Yes</td>\n",
       "    </tr>\n",
       "    <tr>\n",
       "      <th>250</th>\n",
       "      <td>C:\\Users\\user\\Downloads\\archive\\yes\\Y100.JPG</td>\n",
       "      <td>Yes</td>\n",
       "    </tr>\n",
       "    <tr>\n",
       "      <th>251</th>\n",
       "      <td>C:\\Users\\user\\Downloads\\archive\\yes\\Y99.JPG</td>\n",
       "      <td>Yes</td>\n",
       "    </tr>\n",
       "    <tr>\n",
       "      <th>252</th>\n",
       "      <td>C:\\Users\\user\\Downloads\\archive\\yes\\Y243.JPG</td>\n",
       "      <td>Yes</td>\n",
       "    </tr>\n",
       "  </tbody>\n",
       "</table>\n",
       "<p>253 rows × 2 columns</p>\n",
       "</div>"
      ],
      "text/plain": [
       "                                        filepaths labels\n",
       "0    C:\\Users\\user\\Downloads\\archive\\yes\\Y107.jpg    Yes\n",
       "1    C:\\Users\\user\\Downloads\\archive\\no\\40 no.jpg     No\n",
       "2     C:\\Users\\user\\Downloads\\archive\\yes\\Y50.JPG    Yes\n",
       "3     C:\\Users\\user\\Downloads\\archive\\yes\\Y10.jpg    Yes\n",
       "4    C:\\Users\\user\\Downloads\\archive\\yes\\Y257.jpg    Yes\n",
       "..                                            ...    ...\n",
       "248  C:\\Users\\user\\Downloads\\archive\\no\\42 no.jpg     No\n",
       "249   C:\\Users\\user\\Downloads\\archive\\yes\\Y75.JPG    Yes\n",
       "250  C:\\Users\\user\\Downloads\\archive\\yes\\Y100.JPG    Yes\n",
       "251   C:\\Users\\user\\Downloads\\archive\\yes\\Y99.JPG    Yes\n",
       "252  C:\\Users\\user\\Downloads\\archive\\yes\\Y243.JPG    Yes\n",
       "\n",
       "[253 rows x 2 columns]"
      ]
     },
     "execution_count": 12,
     "metadata": {},
     "output_type": "execute_result"
    }
   ],
   "source": [
    "df"
   ]
  },
  {
   "cell_type": "code",
   "execution_count": 13,
   "id": "0e3530db",
   "metadata": {},
   "outputs": [
    {
     "data": {
      "text/html": [
       "<div>\n",
       "<style scoped>\n",
       "    .dataframe tbody tr th:only-of-type {\n",
       "        vertical-align: middle;\n",
       "    }\n",
       "\n",
       "    .dataframe tbody tr th {\n",
       "        vertical-align: top;\n",
       "    }\n",
       "\n",
       "    .dataframe thead th {\n",
       "        text-align: right;\n",
       "    }\n",
       "</style>\n",
       "<table border=\"1\" class=\"dataframe\">\n",
       "  <thead>\n",
       "    <tr style=\"text-align: right;\">\n",
       "      <th></th>\n",
       "      <th>filepaths</th>\n",
       "      <th>labels</th>\n",
       "    </tr>\n",
       "  </thead>\n",
       "  <tbody>\n",
       "    <tr>\n",
       "      <th>0</th>\n",
       "      <td>C:\\Users\\user\\Downloads\\archive\\yes\\Y107.jpg</td>\n",
       "      <td>1</td>\n",
       "    </tr>\n",
       "    <tr>\n",
       "      <th>1</th>\n",
       "      <td>C:\\Users\\user\\Downloads\\archive\\no\\40 no.jpg</td>\n",
       "      <td>0</td>\n",
       "    </tr>\n",
       "    <tr>\n",
       "      <th>2</th>\n",
       "      <td>C:\\Users\\user\\Downloads\\archive\\yes\\Y50.JPG</td>\n",
       "      <td>1</td>\n",
       "    </tr>\n",
       "    <tr>\n",
       "      <th>3</th>\n",
       "      <td>C:\\Users\\user\\Downloads\\archive\\yes\\Y10.jpg</td>\n",
       "      <td>1</td>\n",
       "    </tr>\n",
       "    <tr>\n",
       "      <th>4</th>\n",
       "      <td>C:\\Users\\user\\Downloads\\archive\\yes\\Y257.jpg</td>\n",
       "      <td>1</td>\n",
       "    </tr>\n",
       "  </tbody>\n",
       "</table>\n",
       "</div>"
      ],
      "text/plain": [
       "                                      filepaths  labels\n",
       "0  C:\\Users\\user\\Downloads\\archive\\yes\\Y107.jpg       1\n",
       "1  C:\\Users\\user\\Downloads\\archive\\no\\40 no.jpg       0\n",
       "2   C:\\Users\\user\\Downloads\\archive\\yes\\Y50.JPG       1\n",
       "3   C:\\Users\\user\\Downloads\\archive\\yes\\Y10.jpg       1\n",
       "4  C:\\Users\\user\\Downloads\\archive\\yes\\Y257.jpg       1"
      ]
     },
     "execution_count": 13,
     "metadata": {},
     "output_type": "execute_result"
    }
   ],
   "source": [
    "def f(s):\n",
    "    if s=='No':\n",
    "        return 0\n",
    "    else:\n",
    "        return 1\n",
    "df['labels']=df.labels.apply(f)\n",
    "df.head()"
   ]
  },
  {
   "cell_type": "code",
   "execution_count": 14,
   "id": "398f6f03",
   "metadata": {},
   "outputs": [],
   "source": [
    "from PIL import Image"
   ]
  },
  {
   "cell_type": "code",
   "execution_count": 15,
   "id": "498a6b68",
   "metadata": {},
   "outputs": [
    {
     "name": "stdout",
     "output_type": "stream",
     "text": [
      "354\n",
      "386\n"
     ]
    }
   ],
   "source": [
    "widths=[]\n",
    "heights=[]\n",
    "for idx,rows in df.iterrows():\n",
    "    path=rows['filepaths']\n",
    "    img=Image.open(path)\n",
    "    width,height=img.size\n",
    "    widths.append(width)\n",
    "    heights.append(height)\n",
    "avg_width=int(sum(widths)/len(widths))\n",
    "avg_height=int(sum(heights)/len(heights))\n",
    "    \n",
    "print(avg_width)\n",
    "print(avg_height)\n",
    "    "
   ]
  },
  {
   "cell_type": "code",
   "execution_count": 16,
   "id": "b62c1754",
   "metadata": {},
   "outputs": [],
   "source": [
    "from keras.preprocessing.image import load_img\n",
    "def load_resize_color_image(path):\n",
    "    # load image and resize to 300x300\n",
    "    image = load_img(path,target_size=(300,300))\n",
    "    return image"
   ]
  },
  {
   "cell_type": "code",
   "execution_count": 17,
   "id": "c87a51c8",
   "metadata": {},
   "outputs": [],
   "source": [
    "image_list=[]\n",
    "cancer_list=[]\n",
    "from keras.preprocessing.image import img_to_array\n",
    "for idx,rows in df.iterrows():\n",
    "    path=rows['filepaths']\n",
    "    cancer=rows['labels']\n",
    "    image= load_resize_color_image(path)\n",
    "    image_array = img_to_array(image)   \n",
    "    image_list.append(image_array)\n",
    "    cancer_list.append(cancer)"
   ]
  },
  {
   "cell_type": "code",
   "execution_count": 18,
   "id": "6e6cee54",
   "metadata": {},
   "outputs": [],
   "source": [
    "from sklearn.utils import shuffle\n",
    "image_list, cancer_list = shuffle(image_list, cancer_list)"
   ]
  },
  {
   "cell_type": "code",
   "execution_count": 19,
   "id": "afefd63a",
   "metadata": {},
   "outputs": [],
   "source": [
    "x=np.array(image_list)\n",
    "y=np.array(cancer_list)"
   ]
  },
  {
   "cell_type": "code",
   "execution_count": 20,
   "id": "ce56cf50",
   "metadata": {},
   "outputs": [
    {
     "data": {
      "text/plain": [
       "(253, 300, 300, 3)"
      ]
     },
     "execution_count": 20,
     "metadata": {},
     "output_type": "execute_result"
    }
   ],
   "source": [
    "x.shape"
   ]
  },
  {
   "cell_type": "code",
   "execution_count": 21,
   "id": "bc33a6e1",
   "metadata": {},
   "outputs": [],
   "source": [
    "from keras.layers.convolutional import Conv2D\n",
    "from keras.layers import MaxPooling2D\n",
    "from keras.layers import  Flatten\n",
    "from keras.layers import Input\n",
    "from keras.layers import Dropout"
   ]
  },
  {
   "cell_type": "code",
   "execution_count": 22,
   "id": "1e3ff5c0",
   "metadata": {},
   "outputs": [],
   "source": [
    "from sklearn.model_selection import train_test_split\n",
    "\n",
    "X_train, X_test, y_train, y_test = train_test_split(x, y, train_size=0.8, random_state=0)"
   ]
  },
  {
   "cell_type": "code",
   "execution_count": 23,
   "id": "e9268629",
   "metadata": {},
   "outputs": [],
   "source": [
    "X_train = X_train/255\n",
    "X_test = X_test/255"
   ]
  },
  {
   "cell_type": "code",
   "execution_count": 24,
   "id": "82718e53",
   "metadata": {},
   "outputs": [],
   "source": [
    "epochs=10\n",
    "batch_size=25\n",
    "input_size=(300, 300, 3)"
   ]
  },
  {
   "cell_type": "code",
   "execution_count": 25,
   "id": "b318a32b",
   "metadata": {},
   "outputs": [],
   "source": [
    "from keras.models import Sequential\n",
    "from keras.layers import Dense\n",
    "import tensorflow as tf"
   ]
  },
  {
   "cell_type": "code",
   "execution_count": 26,
   "id": "e4a51e36",
   "metadata": {},
   "outputs": [],
   "source": [
    "model=Sequential()\n",
    "model.add(Input(shape=(300,300,3)))\n",
    "model.add(Conv2D(32,kernel_size=(3,3),activation='relu'))\n",
    "model.add(MaxPooling2D(pool_size=(2,2)))\n",
    "model.add(Conv2D(32,kernel_size=(3,3),activation='relu'))\n",
    "model.add(MaxPooling2D(pool_size=(2,2)))\n",
    "model.add(Flatten())\n",
    "model.add(Dense(512, activation='relu'))\n",
    "model.add(tf.keras.layers.Dropout(0.15))\n",
    "model.add(Dense(1, activation='sigmoid'))"
   ]
  },
  {
   "cell_type": "code",
   "execution_count": 27,
   "id": "3ad75406",
   "metadata": {},
   "outputs": [],
   "source": [
    "model.compile(loss=\"binary_crossentropy\",\n",
    "              optimizer='Adam',\n",
    "              metrics=['accuracy'])"
   ]
  },
  {
   "cell_type": "code",
   "execution_count": 28,
   "id": "a5d57fc3",
   "metadata": {},
   "outputs": [
    {
     "name": "stdout",
     "output_type": "stream",
     "text": [
      "Epoch 1/10\n",
      "9/9 [==============================] - 13s 1s/step - loss: 2.7540 - accuracy: 0.5792 - val_loss: 0.3305 - val_accuracy: 0.8627\n",
      "Epoch 2/10\n",
      "9/9 [==============================] - 12s 1s/step - loss: 0.4085 - accuracy: 0.7970 - val_loss: 0.3415 - val_accuracy: 0.8627\n",
      "Epoch 3/10\n",
      "9/9 [==============================] - 12s 1s/step - loss: 0.2792 - accuracy: 0.8812 - val_loss: 0.5792 - val_accuracy: 0.8431\n",
      "Epoch 4/10\n",
      "9/9 [==============================] - 12s 1s/step - loss: 0.1243 - accuracy: 0.9653 - val_loss: 0.4236 - val_accuracy: 0.8824\n",
      "Epoch 5/10\n",
      "9/9 [==============================] - 12s 1s/step - loss: 0.0517 - accuracy: 0.9802 - val_loss: 0.4858 - val_accuracy: 0.9020\n",
      "Epoch 6/10\n",
      "9/9 [==============================] - 12s 1s/step - loss: 0.0131 - accuracy: 1.0000 - val_loss: 0.4789 - val_accuracy: 0.9020\n",
      "Epoch 7/10\n",
      "9/9 [==============================] - 12s 1s/step - loss: 0.0040 - accuracy: 1.0000 - val_loss: 0.5472 - val_accuracy: 0.9020\n",
      "Epoch 8/10\n",
      "9/9 [==============================] - 12s 1s/step - loss: 0.0013 - accuracy: 1.0000 - val_loss: 0.5381 - val_accuracy: 0.9216\n",
      "Epoch 9/10\n",
      "9/9 [==============================] - 12s 1s/step - loss: 5.1577e-04 - accuracy: 1.0000 - val_loss: 0.6185 - val_accuracy: 0.9020\n",
      "Epoch 10/10\n",
      "9/9 [==============================] - 12s 1s/step - loss: 2.6819e-04 - accuracy: 1.0000 - val_loss: 0.6645 - val_accuracy: 0.9020\n"
     ]
    }
   ],
   "source": [
    "hist = model.fit(X_train, y_train,\n",
    "          batch_size=batch_size,\n",
    "          epochs=epochs,\n",
    "          verbose=1,\n",
    "          validation_data=(X_test, y_test))"
   ]
  },
  {
   "cell_type": "code",
   "execution_count": 29,
   "id": "31123d23",
   "metadata": {},
   "outputs": [
    {
     "name": "stdout",
     "output_type": "stream",
     "text": [
      "Model: \"sequential\"\n",
      "_________________________________________________________________\n",
      " Layer (type)                Output Shape              Param #   \n",
      "=================================================================\n",
      " conv2d (Conv2D)             (None, 298, 298, 32)      896       \n",
      "                                                                 \n",
      " max_pooling2d (MaxPooling2D  (None, 149, 149, 32)     0         \n",
      " )                                                               \n",
      "                                                                 \n",
      " conv2d_1 (Conv2D)           (None, 147, 147, 32)      9248      \n",
      "                                                                 \n",
      " max_pooling2d_1 (MaxPooling  (None, 73, 73, 32)       0         \n",
      " 2D)                                                             \n",
      "                                                                 \n",
      " flatten (Flatten)           (None, 170528)            0         \n",
      "                                                                 \n",
      " dense (Dense)               (None, 512)               87310848  \n",
      "                                                                 \n",
      " dropout (Dropout)           (None, 512)               0         \n",
      "                                                                 \n",
      " dense_1 (Dense)             (None, 1)                 513       \n",
      "                                                                 \n",
      "=================================================================\n",
      "Total params: 87,321,505\n",
      "Trainable params: 87,321,505\n",
      "Non-trainable params: 0\n",
      "_________________________________________________________________\n",
      "None\n"
     ]
    }
   ],
   "source": [
    "print(model.summary())"
   ]
  },
  {
   "cell_type": "code",
   "execution_count": 30,
   "id": "b51640da",
   "metadata": {},
   "outputs": [
    {
     "name": "stdout",
     "output_type": "stream",
     "text": [
      "Test loss: 0.6645445227622986\n",
      "Test accuracy: 0.9019607901573181\n"
     ]
    }
   ],
   "source": [
    "score = model.evaluate(X_test, y_test, verbose=0)\n",
    "print('Test loss:', score[0])\n",
    "print('Test accuracy:', score[1])"
   ]
  },
  {
   "cell_type": "code",
   "execution_count": 31,
   "id": "3ad39047",
   "metadata": {},
   "outputs": [],
   "source": [
    "hist_dict = hist.history"
   ]
  },
  {
   "cell_type": "code",
   "execution_count": 32,
   "id": "3a580d6e",
   "metadata": {},
   "outputs": [
    {
     "data": {
      "image/png": "[encoded data removed]",
      "text/plain": [
       "<Figure size 432x288 with 1 Axes>"
      ]
     },
     "metadata": {
      "needs_background": "light"
     },
     "output_type": "display_data"
    }
   ],
   "source": [
    "sns.lineplot(x=hist_dict['accuracy'],y=hist_dict['loss'])\n",
    "plt.title(\"model accuracy\")\n",
    "plt.xlabel(\"accuracy\")\n",
    "plt.ylabel(\"loss\")\n",
    "plt.show()"
   ]
  },
  {
   "cell_type": "code",
   "execution_count": 33,
   "id": "b1b4e5f7",
   "metadata": {},
   "outputs": [
    {
     "data": {
      "text/plain": [
       "<matplotlib.legend.Legend at 0x113dc561550>"
      ]
     },
     "execution_count": 33,
     "metadata": {},
     "output_type": "execute_result"
    },
    {
     "data": {
      "image/png": "[encoded data removed]",
      "text/plain": [
       "<Figure size 432x288 with 1 Axes>"
      ]
     },
     "metadata": {
      "needs_background": "light"
     },
     "output_type": "display_data"
    }
   ],
   "source": [
    "plt.plot(hist.history['accuracy'])\n",
    "plt.plot(hist_dict['val_accuracy'])\n",
    "plt.xlabel('epoch')\n",
    "plt.ylabel('accuracy')\n",
    "plt.legend(['train','test'],loc='upper left')"
   ]
  },
  {
   "cell_type": "code",
   "execution_count": 34,
   "id": "a7352082",
   "metadata": {},
   "outputs": [
    {
     "name": "stdout",
     "output_type": "stream",
     "text": [
      "[0.3305188715457916, 0.34145253896713257, 0.5791851282119751, 0.42363667488098145, 0.48576775193214417, 0.47886890172958374, 0.5472028255462646, 0.5381240248680115, 0.6184800267219543, 0.6645445227622986]\n"
     ]
    }
   ],
   "source": [
    "print(hist.history['val_loss'])"
   ]
  },
  {
   "cell_type": "code",
   "execution_count": 35,
   "id": "e5516f4f",
   "metadata": {},
   "outputs": [
    {
     "data": {
      "text/plain": [
       "<matplotlib.legend.Legend at 0x113db244c70>"
      ]
     },
     "execution_count": 35,
     "metadata": {},
     "output_type": "execute_result"
    },
    {
     "data": {
      "image/png": "[encoded data removed]",
      "text/plain": [
       "<Figure size 432x288 with 1 Axes>"
      ]
     },
     "metadata": {
      "needs_background": "light"
     },
     "output_type": "display_data"
    }
   ],
   "source": [
    "plt.plot(hist.history['loss'])\n",
    "plt.plot(hist.history['val_loss'])\n",
    "plt.xlabel('epoch')\n",
    "plt.ylabel('error')\n",
    "plt.legend(['train','test'],loc='upper left')"
   ]
  },
  {
   "cell_type": "code",
   "execution_count": 36,
   "id": "e1ec9df4",
   "metadata": {},
   "outputs": [],
   "source": [
    "model.save('brain_tumor.h5')"
   ]
  },
  {
   "cell_type": "code",
   "execution_count": 37,
   "id": "b9c72306",
   "metadata": {},
   "outputs": [],
   "source": [
    "y_pred= model.predict(X_test)"
   ]
  },
  {
   "cell_type": "code",
   "execution_count": 38,
   "id": "fadee819",
   "metadata": {
    "collapsed": true
   },
   "outputs": [
    {
     "data": {
      "text/plain": [
       "array([[1],\n",
       "       [0],\n",
       "       [1],\n",
       "       [1],\n",
       "       [1],\n",
       "       [1],\n",
       "       [0],\n",
       "       [1],\n",
       "       [0],\n",
       "       [1],\n",
       "       [1],\n",
       "       [1],\n",
       "       [0],\n",
       "       [0],\n",
       "       [0],\n",
       "       [1],\n",
       "       [1],\n",
       "       [1],\n",
       "       [1],\n",
       "       [0],\n",
       "       [0],\n",
       "       [1],\n",
       "       [1],\n",
       "       [0],\n",
       "       [0],\n",
       "       [1],\n",
       "       [0],\n",
       "       [1],\n",
       "       [1],\n",
       "       [1],\n",
       "       [0],\n",
       "       [1],\n",
       "       [1],\n",
       "       [0],\n",
       "       [1],\n",
       "       [1],\n",
       "       [1],\n",
       "       [1],\n",
       "       [0],\n",
       "       [1],\n",
       "       [0],\n",
       "       [1],\n",
       "       [1],\n",
       "       [1],\n",
       "       [1],\n",
       "       [0],\n",
       "       [1],\n",
       "       [0],\n",
       "       [1],\n",
       "       [0],\n",
       "       [0]])"
      ]
     },
     "execution_count": 38,
     "metadata": {},
     "output_type": "execute_result"
    }
   ],
   "source": [
    "y_pred=np.around(y_pred,decimals=0)\n",
    "y_pred.astype(int)"
   ]
  },
  {
   "cell_type": "code",
   "execution_count": 39,
   "id": "3c798bec",
   "metadata": {},
   "outputs": [
    {
     "data": {
      "text/plain": [
       "array([[17,  2],\n",
       "       [ 3, 29]], dtype=int64)"
      ]
     },
     "execution_count": 39,
     "metadata": {},
     "output_type": "execute_result"
    }
   ],
   "source": [
    "confusion_matrix(y_pred,y_test)"
   ]
  },
  {
   "cell_type": "code",
   "execution_count": 40,
   "id": "6213d0b0",
   "metadata": {},
   "outputs": [
    {
     "name": "stdout",
     "output_type": "stream",
     "text": [
      "              precision    recall  f1-score   support\n",
      "\n",
      "         0.0       0.85      0.89      0.87        19\n",
      "         1.0       0.94      0.91      0.92        32\n",
      "\n",
      "    accuracy                           0.90        51\n",
      "   macro avg       0.89      0.90      0.90        51\n",
      "weighted avg       0.90      0.90      0.90        51\n",
      "\n"
     ]
    }
   ],
   "source": [
    "print(classification_report(y_pred,y_test))"
   ]
  }
 ],
 "metadata": {
  "kernelspec": {
   "display_name": "Python 3 (ipykernel)",
   "language": "python",
   "name": "python3"
  },
  "language_info": {
   "codemirror_mode": {
    "name": "ipython",
    "version": 3
   },
   "file_extension": ".py",
   "mimetype": "text/x-python",
   "name": "python",
   "nbconvert_exporter": "python",
   "pygments_lexer": "ipython3",
   "version": "3.9.7"
  }
 },
 "nbformat": 4,
 "nbformat_minor": 5
}
